{
 "cells": [
  {
   "cell_type": "code",
   "execution_count": 568,
   "metadata": {},
   "outputs": [],
   "source": [
    "import torch\n",
    "import numpy as np\n"
   ]
  },
  {
   "cell_type": "code",
   "execution_count": 569,
   "metadata": {},
   "outputs": [],
   "source": [
    "class PytorchKmeans():\n",
    "    '''\n",
    "    Kmeans clustering for Pytorch \n",
    "    \n",
    "    parameters\n",
    "    k - number of clusters\n",
    "    tol - error tolerance\n",
    "    iteration - num iteration \n",
    "    \n",
    "    attributes \n",
    "    cluster_centers_ - cluster centers of the fitted dataset\n",
    "    labels_ - labels with respect to the cluster_centers\n",
    "    \n",
    "    '''\n",
    "    def __init__(self, k, tol=1e-5, iteration=300):\n",
    "        self.k = k\n",
    "        self.tol = tol\n",
    "        self.iteration = iteration\n",
    "        self.cluster_centers_ = torch.Tensor([])\n",
    "        self.labels_ = torch.Tensor([])\n",
    "    def fit(self, X):\n",
    "        m, n = X.size()\n",
    "        X_mean = torch.mean(X.float(), dim=0)\n",
    "        X_std = torch.std(X.float(), dim=0)\n",
    "        centroids = X_mean + X_std*torch.randn(size=(self.k, n))\n",
    "        old_centroids = centroids.detach().clone()\n",
    "        for iteration in range(self.iteration):\n",
    "            clusters = torch.Tensor([])\n",
    "            for i in centroids:\n",
    "                \n",
    "                clusters = torch.cat([clusters, pairwise_distance(X,i).view(-1,1)], dim=1)\n",
    "            \n",
    "            cluster = torch.argmin(clusters, dim=1)\n",
    "            for j in range(self.k):\n",
    "                choice_selected = X[cluster==j]\n",
    "\n",
    "                centroids[j,:] = torch.mean(choice_selected,dim=0)\n",
    "            \n",
    "            error = torch.norm(old_centroids- centroids)\n",
    "            if error < self.tol:\n",
    "                break            \n",
    "            old_centroids = centroids.detach().clone()\n",
    "        self.cluster_centers_ = centroids\n",
    "        self.labels_ = cluster\n",
    "            \n",
    "        return centroids\n",
    "\n",
    "    def pairwise_distance(self, data1, data2):\n",
    "        return torch.norm(data1-data2, 2,dim = 1)\n",
    "    \n",
    "    def predict(self, x):\n",
    "        clusters = torch.Tensor([])\n",
    "        for i in self.cluster_centers_:\n",
    "            clusters = torch.cat([clusters, pairwise_distance(x,i).view(-1,1)], dim=1)\n",
    "        return torch.argmin(clusters, dim=1)\n",
    "\n",
    "\n",
    "        \n",
    "            \n",
    "        "
   ]
  },
  {
   "cell_type": "code",
   "execution_count": null,
   "metadata": {},
   "outputs": [],
   "source": []
  }
 ],
 "metadata": {
  "kernelspec": {
   "display_name": "Python 3",
   "language": "python",
   "name": "python3"
  },
  "language_info": {
   "codemirror_mode": {
    "name": "ipython",
    "version": 3
   },
   "file_extension": ".py",
   "mimetype": "text/x-python",
   "name": "python",
   "nbconvert_exporter": "python",
   "pygments_lexer": "ipython3",
   "version": "3.8.3"
  }
 },
 "nbformat": 4,
 "nbformat_minor": 4
}
